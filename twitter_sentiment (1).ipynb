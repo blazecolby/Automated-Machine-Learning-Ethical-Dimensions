{
 "cells": [
  {
   "cell_type": "markdown",
   "metadata": {},
   "source": [
    "$$ \\text{Twitter Moral Corpus} $$\n",
    "$$ \\text{and} $$\n",
    "$$ \\text{H2O's Python Client with Driverless AI} $$"
   ]
  },
  {
   "cell_type": "markdown",
   "metadata": {},
   "source": [
    "This notebook utilizes H2O's Driverless AI and related Python Client to analyze the Twitter Corpus Paper 'Moral Foundations Twitter Corpus: A collection of 35k tweets annotated for moralsentiment.' The goal is to analyze the Twitter Moral Corpus and test the efficacy and usability of H2O's automated machine learning through their H2O Ai Client.  \n",
    "\n",
    "Moral Foundations Theory is a five factor taxonomy of human morality. Below are the five.\n",
    "\n",
    "Moral Factors:\n",
    "- Care\\Harm\n",
    "- Fairness\\Cheating\n",
    "- Loyalty\\Betrayal\n",
    "- Authority\\Subversion\n",
    "- Purity\\Degradation"
   ]
  },
  {
   "cell_type": "markdown",
   "metadata": {},
   "source": [
    "Import libraries -- "
   ]
  },
  {
   "cell_type": "code",
   "execution_count": 195,
   "metadata": {},
   "outputs": [],
   "source": [
    "import os\n",
    "import time\n",
    "import datetime\n",
    "import wget #!pip install wget\n",
    "import subprocess\n",
    "import numpy as np #\n",
    "import pandas as pd\n",
    "from zipfile import ZipFile \n",
    "from h2oai_client import Client\n",
    "from sklearn import model_selection\n",
    "\n",
    "# pd.set_option('display.max_rows', None), \n",
    "pd.set_option('display.max_columns', None)"
   ]
  },
  {
   "cell_type": "markdown",
   "metadata": {},
   "source": [
    "Download twitter data with tweets."
   ]
  },
  {
   "cell_type": "code",
   "execution_count": 2,
   "metadata": {},
   "outputs": [],
   "source": [
    "# wget.download('https://drive.google.com/u/0/uc?id=1d1p95CspLTT1em4I42rDpWY6Hcikg296&export=download')"
   ]
  },
  {
   "cell_type": "markdown",
   "metadata": {},
   "source": [
    "optional - if you downloaded the data from above. -- "
   ]
  },
  {
   "cell_type": "markdown",
   "metadata": {},
   "source": [
    "The twitter data doesn't come with tweets. In order to get the tweets you have to sign up for a twitter develop account. \n",
    "\n",
    "You will need to collect the following and fill in the values in the text_script before you run it with python text_script.py. The tweets will then be populated. <br>\n",
    "Values to be filled: consumer_key='', consumer_secret='', access_token_key='', access_token_secret=''"
   ]
  },
  {
   "cell_type": "code",
   "execution_count": 3,
   "metadata": {},
   "outputs": [],
   "source": [
    "# Twitter sentiment data\n",
    "# wget.download('https://osf.io/cwu4m/download')\n",
    "# os.rename('MFTC_V4.json', 'twitter_sentiment.json')\n",
    "\n",
    "# Text script\n",
    "# wget.download('https://osf.io/mzg5w/download')\n",
    "# !python text_scripts"
   ]
  },
  {
   "cell_type": "markdown",
   "metadata": {},
   "source": [
    "didn't download -- "
   ]
  },
  {
   "cell_type": "markdown",
   "metadata": {},
   "source": [
    "The davidson comes separate. Below will download that; however, this was left out because the word classications weren't available. "
   ]
  },
  {
   "cell_type": "code",
   "execution_count": 4,
   "metadata": {},
   "outputs": [],
   "source": [
    "# Wget for Davidson dataset mentioned below\n",
    "# wget.download('https://raw.githubusercontent.com/t-davidson/hate-speech-and-offensive-language/ \\\n",
    "# master/data/labeled_data.csv')\n",
    "# df_davidson = pd.read_csv('labeled_data.csv').drop(columns=['Unnamed: 0'])"
   ]
  },
  {
   "cell_type": "markdown",
   "metadata": {},
   "source": [
    "load driverlessai credentials -- "
   ]
  },
  {
   "cell_type": "markdown",
   "metadata": {},
   "source": [
    "Set credentials for H2O Client. The username will be the beginning of the email used for your GCP account. You can also type ‘id’ into the terminal and that will show the username, i.e. uid=1001(username). "
   ]
  },
  {
   "cell_type": "code",
   "execution_count": 5,
   "metadata": {},
   "outputs": [],
   "source": [
    "address = 'http://34.71.197.74:12345'\n",
    "username = 'datasciprojects'\n",
    "password = 'Cypher65'\n",
    "h2oai = Client(address = address, username = username, password = password)"
   ]
  },
  {
   "cell_type": "markdown",
   "metadata": {},
   "source": [
    "Place corpus' in dataframes. -- "
   ]
  },
  {
   "cell_type": "markdown",
   "metadata": {},
   "source": [
    "Import moral corpus', below is each given corpus. The Davidson corpus needed to be downloaded from elsewhere, and didn't have the actual classification words included so was ultimately excluded from the analysis.  \n",
    "\n",
    "Domains are selected based on relevant moral problems in social sciences.\n",
    "- ALM: All Lives Matter - political right\n",
    "- Baltimore: Baltimore protests related to the death of Freddie Gray.\n",
    "- BLM: Black Lives Matter - political left\n",
    "- Election: The 2016 presidential election\n",
    "- MeToo: Womens sexual harassment/assualt movement. \n",
    "- Sandy: Hurricane Sandy\n",
    "- Davidson: Hate Speech"
   ]
  },
  {
   "cell_type": "code",
   "execution_count": 6,
   "metadata": {},
   "outputs": [],
   "source": [
    "df = pd.read_json('tw.json')\n",
    "dfs = []\n",
    "ALM, Baltimore, BLM, Election, MeToo, Sandy = df['Tweets'][0], df['Tweets'][1], df['Tweets'][2], \\\n",
    "                                              df['Tweets'][4], df['Tweets'][5], df['Tweets'][6]\n",
    "\n",
    "corpus = [ALM, Baltimore, BLM, Election, MeToo, Sandy]"
   ]
  },
  {
   "cell_type": "markdown",
   "metadata": {},
   "source": [
    "clean data --"
   ]
  },
  {
   "cell_type": "markdown",
   "metadata": {},
   "source": [
    "The domains come embedded in a json file. For ease of use, the below code takes the json and places it in a pandas dataframe. All hash tags were removed from the tweets. Each tweet has the potential to have multiple word classifications based on the aforementioned moral theory factors.  "
   ]
  },
  {
   "cell_type": "code",
   "execution_count": 7,
   "metadata": {},
   "outputs": [],
   "source": [
    "# Initial lists to be converted to a dataframe later\n",
    "text_id = []\n",
    "tweet = []\n",
    "date = []\n",
    "annotation = []\n",
    "\n",
    "for c in corpus:\n",
    "    for i in c:\n",
    "        text_id.append(list(i.values())[0])\n",
    "        tweet.append(list(i.values())[1])\n",
    "        date.append(list(i.values())[2])\n",
    "        annotation.append(list(i.values())[3])\n",
    "\n",
    "tweet = pd.DataFrame(tweet, columns=['tweet'])\n",
    "text_id = pd.DataFrame(text_id, columns=['text_id'])\n",
    "date = pd.DataFrame(date, columns=['date'])\n",
    "\n",
    "frst_column_annotations = []\n",
    "scnd_column_annotations = []\n",
    "\n",
    "\n",
    "for i in annotation:\n",
    "    frst_column_annotations.append(list(i[0].values())[1])\n",
    "    scnd_column_annotations.append(list(i[1].values())[1])\n",
    "\n",
    "dataframe_a_words = pd.DataFrame(frst_column_annotations, columns=['word1'])\n",
    "dataframe_b_words = pd.DataFrame(scnd_column_annotations, columns=['word2'])\n",
    "words = pd.concat([dataframe_a_words, dataframe_b_words], axis=1)\n",
    "\n",
    "words_col_a = words['word1'].str.split(',', 4, expand=True).rename(columns={0:'w1', 1:'w2', 2:'w3', 3:'w4', 4:'w5'})\n",
    "words_col_b = words['word2'].str.split(',', 5, expand=True).rename(columns={0:'w6', 1:'w7', 2:'w8', 3:'w9', 4:'w10', 5:'w11'})\n",
    "words_df = pd.concat([words_col_a, words_col_b], axis=1)\n",
    "\n",
    "# Rename columns\n",
    "text_id = pd.DataFrame(text_id, columns=['text_id'])\n",
    "tweet = pd.DataFrame(tweet, columns=['tweet'])\n",
    "date = pd.DataFrame(date, columns=['date'])\n",
    "\n",
    "df_list = [text_id, tweet, date, words_df]\n",
    "df = pd.concat(df_list, axis=1)\n",
    "df_words = pd.concat(df_list, axis=1)\n",
    "\n",
    "df.drop(columns=['text_id', 'date'], inplace=True)\n",
    "df = df[df['tweet'] != 'no tweet text available']\n",
    "df.reset_index(drop=True, inplace=True)\n",
    "\n",
    "df['tweet'] = df['tweet'].str.replace('#\\S+', '', regex=True) \\\n",
    "                         .str.replace('&amp;','and') \\\n",
    "                         .str.strip()\n",
    "\n",
    "is_duplicate = df.apply(pd.Series.duplicated, axis=1)\n",
    "df_ = df.where(~is_duplicate, None)\n",
    "\n",
    "dataframe = df_[['tweet','w1']].rename(columns={'w1':'Annotations'})"
   ]
  },
  {
   "cell_type": "markdown",
   "metadata": {},
   "source": [
    "Make sure that all columns have a max of one word."
   ]
  },
  {
   "cell_type": "code",
   "execution_count": 8,
   "metadata": {},
   "outputs": [],
   "source": [
    "# for x in df_.iloc[:,1:]:\n",
    "#     print(df_[x].value_counts(), '\\n')"
   ]
  },
  {
   "cell_type": "markdown",
   "metadata": {},
   "source": [
    "convert to dummies then sum repeat values --"
   ]
  },
  {
   "cell_type": "markdown",
   "metadata": {},
   "source": [
    "Turn values into binary variables. There are 11 columns. get_dummies essentially creates a duplicate key, i.e. Authority_1, Authority_2, etc. Each unique word is combined into its own column, i.e. Authority. \n",
    "\n",
    "For each record the word count is summed up."
   ]
  },
  {
   "cell_type": "code",
   "execution_count": 9,
   "metadata": {},
   "outputs": [],
   "source": [
    "dummies = pd.get_dummies(df.iloc[:,1:])\n",
    "dummies_summed = dummies.iloc[:,1:].T.groupby([s.split('_')[1] for s in dummies.iloc[:,1:].T.index.values]).sum().T"
   ]
  },
  {
   "cell_type": "markdown",
   "metadata": {},
   "source": [
    "convert back to dummies --"
   ]
  },
  {
   "cell_type": "markdown",
   "metadata": {},
   "source": [
    "Turn the summed counts into categorical variables. For each set of morality keywords, set the "
   ]
  },
  {
   "cell_type": "code",
   "execution_count": 10,
   "metadata": {},
   "outputs": [],
   "source": [
    "# For each pair of moral values, if there is a value in each field greater than zero take the higher of the two.\n",
    "def set_higher_moral_count(col1, col2):\n",
    "    if col1 > 0:\n",
    "        return 1\n",
    "    elif col2 > 0:\n",
    "        return 0\n",
    "    # Check if both columns are > 0 and equal\n",
    "    elif col1 > 0 & col2 > 0 & col1 == col2:\n",
    "        return 3\n",
    "    else:\n",
    "        return 2"
   ]
  },
  {
   "cell_type": "code",
   "execution_count": 11,
   "metadata": {},
   "outputs": [],
   "source": [
    "care_harm = dummies_summed.apply(lambda x: set_higher_moral_count(x.harm, x.care), axis=1)\n",
    "fairness_cheating = dummies_summed.apply(lambda x: set_higher_moral_count(x.fairness, x.cheating), axis=1)\n",
    "loyalty_betrayal = dummies_summed.apply(lambda x: set_higher_moral_count(x.loyalty, x.betrayal), axis=1)\n",
    "authority_subversion = dummies_summed.apply(lambda x: set_higher_moral_count(x.authority, x.subversion), axis=1)\n",
    "purity_degradation = dummies_summed.apply(lambda x: set_higher_moral_count(x.purity, x.degradation), axis=1)\n",
    "\n",
    "y = df.iloc[:,0]\n",
    "\n",
    "Care_Harm = pd.concat([y, care_harm], axis=1).rename(columns={0:'y'}).reset_index(drop=True)\n",
    "Fairness_Cheating = pd.concat([y, fairness_cheating], axis=1).rename(columns={0:'y'}).reset_index(drop=True)\n",
    "Loyalty_Betrayal = pd.concat([y, loyalty_betrayal], axis=1).rename(columns={0:'y'}).reset_index(drop=True)\n",
    "Authority_Subversion = pd.concat([y, authority_subversion], axis=1).rename(columns={0:'y'}).reset_index(drop=True)\n",
    "Purity_Degradation = pd.concat([y, purity_degradation], axis=1).rename(columns={0:'y'}).reset_index(drop=True)"
   ]
  },
  {
   "cell_type": "markdown",
   "metadata": {},
   "source": [
    "preview care harm x and y --"
   ]
  },
  {
   "cell_type": "code",
   "execution_count": 12,
   "metadata": {},
   "outputs": [
    {
     "data": {
      "text/html": [
       "<div>\n",
       "<style scoped>\n",
       "    .dataframe tbody tr th:only-of-type {\n",
       "        vertical-align: middle;\n",
       "    }\n",
       "\n",
       "    .dataframe tbody tr th {\n",
       "        vertical-align: top;\n",
       "    }\n",
       "\n",
       "    .dataframe thead th {\n",
       "        text-align: right;\n",
       "    }\n",
       "</style>\n",
       "<table border=\"1\" class=\"dataframe\">\n",
       "  <thead>\n",
       "    <tr style=\"text-align: right;\">\n",
       "      <th></th>\n",
       "      <th>tweet</th>\n",
       "      <th>y</th>\n",
       "    </tr>\n",
       "  </thead>\n",
       "  <tbody>\n",
       "    <tr>\n",
       "      <th>0</th>\n",
       "      <td>Wholeheartedly support these protests and acts...</td>\n",
       "      <td>2</td>\n",
       "    </tr>\n",
       "    <tr>\n",
       "      <th>1</th>\n",
       "      <td>This Sandra Bland situation man no disrespect ...</td>\n",
       "      <td>1</td>\n",
       "    </tr>\n",
       "    <tr>\n",
       "      <th>2</th>\n",
       "      <td>Commitment to peace, healing and loving neighb...</td>\n",
       "      <td>0</td>\n",
       "    </tr>\n",
       "    <tr>\n",
       "      <th>3</th>\n",
       "      <td>Injustice for one is an injustice for all</td>\n",
       "      <td>2</td>\n",
       "    </tr>\n",
       "    <tr>\n",
       "      <th>4</th>\n",
       "      <td>This is what compassion looks like!   https://...</td>\n",
       "      <td>0</td>\n",
       "    </tr>\n",
       "    <tr>\n",
       "      <th>...</th>\n",
       "      <td>...</td>\n",
       "      <td>...</td>\n",
       "    </tr>\n",
       "    <tr>\n",
       "      <th>2627</th>\n",
       "      <td>RT @Zwelinzima1: Chief Luthuli said a nation w...</td>\n",
       "      <td>2</td>\n",
       "    </tr>\n",
       "    <tr>\n",
       "      <th>2628</th>\n",
       "      <td>RT @tiziumi: I thank God for all His love and ...</td>\n",
       "      <td>0</td>\n",
       "    </tr>\n",
       "    <tr>\n",
       "      <th>2629</th>\n",
       "      <td>Live look at me in the strip club tonight    h...</td>\n",
       "      <td>2</td>\n",
       "    </tr>\n",
       "    <tr>\n",
       "      <th>2630</th>\n",
       "      <td>RT @whathorrorstory: what in sleep deprivation...</td>\n",
       "      <td>1</td>\n",
       "    </tr>\n",
       "    <tr>\n",
       "      <th>2631</th>\n",
       "      <td>\"This Gov. removed marriage equality from the ...</td>\n",
       "      <td>2</td>\n",
       "    </tr>\n",
       "  </tbody>\n",
       "</table>\n",
       "<p>2632 rows × 2 columns</p>\n",
       "</div>"
      ],
      "text/plain": [
       "                                                  tweet  y\n",
       "0     Wholeheartedly support these protests and acts...  2\n",
       "1     This Sandra Bland situation man no disrespect ...  1\n",
       "2     Commitment to peace, healing and loving neighb...  0\n",
       "3             Injustice for one is an injustice for all  2\n",
       "4     This is what compassion looks like!   https://...  0\n",
       "...                                                 ... ..\n",
       "2627  RT @Zwelinzima1: Chief Luthuli said a nation w...  2\n",
       "2628  RT @tiziumi: I thank God for all His love and ...  0\n",
       "2629  Live look at me in the strip club tonight    h...  2\n",
       "2630  RT @whathorrorstory: what in sleep deprivation...  1\n",
       "2631  \"This Gov. removed marriage equality from the ...  2\n",
       "\n",
       "[2632 rows x 2 columns]"
      ]
     },
     "execution_count": 12,
     "metadata": {},
     "output_type": "execute_result"
    }
   ],
   "source": [
    "Care_Harm"
   ]
  },
  {
   "cell_type": "markdown",
   "metadata": {},
   "source": [
    "Check for value counts and imbalanced classes. "
   ]
  },
  {
   "cell_type": "code",
   "execution_count": 13,
   "metadata": {},
   "outputs": [
    {
     "name": "stdout",
     "output_type": "stream",
     "text": [
      "1 = First listed value\n",
      "0 = Second listed value\n",
      "-----------\n",
      "Care_Harm\n",
      "2    1504\n",
      "1     662\n",
      "0     466\n",
      "Name: y, dtype: int64 \n",
      "\n",
      "Fairness_Cheating\n",
      "2    1441\n",
      "1     659\n",
      "0     532\n",
      "Name: y, dtype: int64 \n",
      "\n",
      "Loyalty_Betrayal\n",
      "2    1819\n",
      "1     462\n",
      "0     351\n",
      "Name: y, dtype: int64 \n",
      "\n",
      "Authority_Subversion\n",
      "2    2277\n",
      "0     247\n",
      "1     108\n",
      "Name: y, dtype: int64 \n",
      "\n",
      "Purity_Degradation\n",
      "2    2205\n",
      "1     267\n",
      "0     160\n",
      "Name: y, dtype: int64 \n",
      "\n"
     ]
    }
   ],
   "source": [
    "frames = [Care_Harm, Fairness_Cheating, Loyalty_Betrayal, Authority_Subversion, Purity_Degradation]\n",
    "names = ['Care_Harm', 'Fairness_Cheating', 'Loyalty_Betrayal', 'Authority_Subversion', 'Purity_Degradation']\n",
    "\n",
    "print('1 = First listed value')\n",
    "print('0 = Second listed value\\n-----------')\n",
    "\n",
    "for w,z in zip(names, frames):\n",
    "    print(w)\n",
    "    print(z.iloc[:, 1].value_counts(), '\\n')"
   ]
  },
  {
   "cell_type": "markdown",
   "metadata": {},
   "source": [
    "downsample each x and y pair--"
   ]
  },
  {
   "cell_type": "code",
   "execution_count": 14,
   "metadata": {},
   "outputs": [],
   "source": [
    "CH0 = Care_Harm['y'][Care_Harm['y'] == 0]\n",
    "downsample_CH = len(CH0)\n",
    "CH1 = Care_Harm['y'][Care_Harm['y'] == 1].iloc[:downsample_CH]\n",
    "CH2 = Care_Harm['y'][Care_Harm['y'] == 2].iloc[:downsample_CH]\n",
    "CHy = pd.concat([CH0, CH1, CH2], axis=0).reset_index(drop=True)\n",
    "CHx = Care_Harm['tweet']\n",
    "Care_Harm = pd.concat([CHx, CHy], axis=1).reset_index(drop=True).dropna()\n",
    "\n",
    "FC0 = Fairness_Cheating['y'][Fairness_Cheating['y'] == 0]\n",
    "downsample_FC = len(FC0)\n",
    "FC1 = Fairness_Cheating['y'][Fairness_Cheating['y'] == 1].iloc[:downsample_FC]\n",
    "FC2 = Fairness_Cheating['y'][Fairness_Cheating['y'] == 2].iloc[:downsample_FC]\n",
    "FCy = pd.concat([FC0, FC1, FC2], axis=0).reset_index(drop=True)\n",
    "FCx = Fairness_Cheating['tweet']\n",
    "Fairness_Cheating = pd.concat([FCx, FCy], axis=1).reset_index(drop=True).dropna()\n",
    "\n",
    "LB0 = Loyalty_Betrayal['y'][Loyalty_Betrayal['y'] == 0]\n",
    "downsample_LB = len(LB0)\n",
    "LB1 = Loyalty_Betrayal['y'][Loyalty_Betrayal['y'] == 1].iloc[:downsample_LB]\n",
    "LB2 = Loyalty_Betrayal['y'][Loyalty_Betrayal['y'] == 2].iloc[:downsample_LB]\n",
    "LBy = pd.concat([LB0, LB1, LB2], axis=0).reset_index(drop=True)\n",
    "LBx = Loyalty_Betrayal['tweet']\n",
    "Loyalty_Betrayal = pd.concat([LBx, LBy], axis=1).reset_index(drop=True).dropna()\n",
    "\n",
    "AS0 = Authority_Subversion['y'][Authority_Subversion['y'] == 0]\n",
    "downsample_AS = len(AS0)\n",
    "AS1 = Authority_Subversion['y'][Authority_Subversion['y'] == 1].iloc[:downsample_AS]\n",
    "AS2 = Authority_Subversion['y'][Authority_Subversion['y'] == 2].iloc[:downsample_AS]\n",
    "ASy = pd.concat([AS0, AS1, AS2], axis=0).reset_index(drop=True)\n",
    "ASx = Authority_Subversion['tweet']\n",
    "Authority_Subversion = pd.concat([ASx, ASy], axis=1).reset_index(drop=True).dropna()\n",
    "\n",
    "PD0 = Purity_Degradation['y'][Purity_Degradation['y'] == 0]\n",
    "downsample_PD = len(PD0)\n",
    "PD1 = Purity_Degradation['y'][Purity_Degradation['y'] == 1].iloc[:downsample_PD]\n",
    "PD2 = Purity_Degradation['y'][Purity_Degradation['y'] == 2].iloc[:downsample_PD]\n",
    "PDy = pd.concat([PD0, PD1, PD2], axis=0).reset_index(drop=True)\n",
    "PDx = Purity_Degradation['tweet']\n",
    "Purity_Degradation = pd.concat([PDx,PDy], axis=1).reset_index(drop=True).dropna()"
   ]
  },
  {
   "cell_type": "markdown",
   "metadata": {},
   "source": [
    "train test split --"
   ]
  },
  {
   "cell_type": "code",
   "execution_count": 15,
   "metadata": {},
   "outputs": [],
   "source": [
    "#     Split dataset into test and train sets. We use numpy to split the data then export to csv files. <br>\n",
    "#     70/30 split\n",
    "for name,frame in zip(names, frames):\n",
    "    train, test = np.split(frame.sample(frac=1), [int(.7*len(frame))])\n",
    "    train.reset_index(inplace=True, drop=True)\n",
    "    test.reset_index(inplace=True, drop=True)\n",
    "    train.to_csv(\"train_twitter_sentiment{}.csv\".format(name), index=False)\n",
    "    test.to_csv(\"test_twitter_sentiment{}.csv\".format(name), index=False)"
   ]
  },
  {
   "cell_type": "markdown",
   "metadata": {},
   "source": [
    "make directory to store training times --"
   ]
  },
  {
   "cell_type": "code",
   "execution_count": 16,
   "metadata": {},
   "outputs": [],
   "source": [
    "if not os.path.exists('model_times.txt'):\n",
    "    os.mknod('model_times.txt')"
   ]
  },
  {
   "cell_type": "markdown",
   "metadata": {},
   "source": [
    "train model and download all model stats --"
   ]
  },
  {
   "cell_type": "code",
   "execution_count": 49,
   "metadata": {},
   "outputs": [],
   "source": [
    "def get_df_name(df):\n",
    "    '''\n",
    "    INPUT:Dataframe \n",
    "    OUTPUT:DataFrame name as str\n",
    "    '''\n",
    "    name =[x for x in globals() if globals()[x] is df][0]\n",
    "    return name\n",
    "\n",
    "\n",
    "def train_and_download_summary(name, moralset='Care/Harm'):\n",
    "    '''\n",
    "    INPUT:DataFrame name\n",
    "    OUPUT:Training Summary files\n",
    "    '''\n",
    "    \n",
    "    if moralset == 'Care/Harm':\n",
    "        folder = cwd+'/summary_Care_Harm/'\n",
    "    elif moralset == 'Authority/Subversion':\n",
    "        folder = cwd+'/summary_Authority_Subversion/'\n",
    "    elif moralset == 'Fairness/Cheating':\n",
    "        folder = cwd+'/summary_Fairness_Cheating/'\n",
    "    elif moralset == 'Loyalty/Betrayal':\n",
    "        folder = cwd+'/summary_Loyalty_Betrayal/'\n",
    "    elif moralset == 'Purity/Degredation':\n",
    "        folder = cwd+'/summary_Purity_Degradation/'\n",
    "    else:\n",
    "        folder = cwd+'/summary_Care_Harm/'\n",
    "    \n",
    "    name = get_df_name(name)\n",
    "\n",
    "    train_path = './train_twitter_sentiment{}.csv'.format(name)\n",
    "    test_path = './test_twitter_sentiment{}.csv'.format(name)\n",
    "\n",
    "    # Pull in the data and place into the h20ai client to utilize their classes/tools. \n",
    "    train = h2oai.upload_dataset_sync(train_path)\n",
    "    test = h2oai.upload_dataset_sync(test_path)\n",
    "\n",
    "    # Run the model\n",
    "    start = time.time()\n",
    "    model = h2oai.start_experiment_sync(\n",
    "        dataset_key=train.key,\n",
    "        testset_key=test.key,\n",
    "        target_col='y',\n",
    "        scorer='LOGLOSS',\n",
    "        is_classification=True,\n",
    "        cols_to_drop=[],\n",
    "        accuracy=7,\n",
    "        time=2,\n",
    "        interpretability=8,\n",
    "        enable_gpus=False,\n",
    "        config_overrides=\"\"\"\n",
    "                        enable_tensorflow='on'\n",
    "                        enable_tensorflow_charcnn='on'\n",
    "                        enable_tensorflow_textcnn='on'\n",
    "                        enable_tensorflow_textbigru='on'\n",
    "                        \"\"\"\n",
    "    )\n",
    "    end = time.time()\n",
    "\n",
    "    # Download Model Summary files and place them in the 'Summary_modelname' folder.   \n",
    "    summary_path = h2oai.download(src_path=model.summary_path, dest_dir='.')\n",
    "    dir_path = './h2oai_experiment_summary_'+model.key\n",
    "\n",
    "    with ZipFile(dir_path+'.zip', 'r') as zip: \n",
    "        zip.extractall('./summary_{}/'.format(name))\n",
    "    \n",
    "    seconds = round(end - start)\n",
    "    model_time = 'Model runtime: {} -- '.format(name) + str((datetime.timedelta(seconds=seconds))) + ' (h:m:s)\\n'\n",
    "    \n",
    "    with open('model_times.txt', 'a') as file:\n",
    "        file.write(model_time)\n"
   ]
  },
  {
   "cell_type": "code",
   "execution_count": 18,
   "metadata": {},
   "outputs": [],
   "source": [
    "# train_and_download_summary()"
   ]
  },
  {
   "cell_type": "code",
   "execution_count": 166,
   "metadata": {},
   "outputs": [],
   "source": [
    "def key_metrics(moralset='Care/Harm'):\n",
    "    '''\n",
    "    moralset : {'Care/Harm', 'Authority/Subversion', 'Fairness/Cheating', \n",
    "                'Loyalty/Betrayal', 'Purity/Degredation'}, default='Care/Harm'\n",
    "               Used to specify morality set.\n",
    "                \n",
    "    INPUT: moralset\n",
    "    OUTPUT: Accuracy & Confusion Matrix\n",
    "    '''\n",
    "    \n",
    "    cwd = '/home/datasciprojects/jupyter/notebooks'\n",
    "    \n",
    "    file = 'ensemble_confusion_matrix_stats_test'\n",
    "    \n",
    "    if moralset == 'Care/Harm':\n",
    "        folder = cwd+'/summary_Care_Harm/'\n",
    "    elif moralset == 'Authority/Subversion':\n",
    "        folder = cwd+'/summary_Authority_Subversion/'\n",
    "    elif moralset == 'Fairness/Cheating':\n",
    "        folder = cwd+'/summary_Fairness_Cheating/'\n",
    "    elif moralset == 'Loyalty/Betrayal':\n",
    "        folder = cwd+'/summary_Loyalty_Betrayal/'\n",
    "    elif moralset == 'Purity/Degredation':\n",
    "        folder = cwd+'/summary_Purity_Degradation/'\n",
    "    else:\n",
    "        folder = cwd+'/summary_Care_Harm/'\n",
    "\n",
    "    df = '{}{}.json'.format(folder, file)\n",
    "    df = pd.read_json(df)\n",
    "\n",
    "    confusion_df = '{}{}.json'.format(folder, file)\n",
    "    confusion_df = pd.read_json(confusion_df)[[2]].T\n",
    "\n",
    "    cf = confusion_df[['TP: True Positive',\n",
    "                       'TN: True Negative',\n",
    "                       'FP: False Positive',\n",
    "                       'FN: False Negative']].rename(\n",
    "        columns={\n",
    "            'TP: True Positive':'TP',\n",
    "            'TN: True Negative':'TN',\n",
    "            'FP: False Positive':'FP',\n",
    "            'FN: False Negative':'FN'\n",
    "        }\n",
    "    )\n",
    "\n",
    "    TP = str(cf['TP'].values[0])\n",
    "    FP = str(cf['FP'].values[0])\n",
    "    TN = str(cf['TN'].values[0])\n",
    "    FN = str(cf['FN'].values[0])\n",
    "\n",
    "    confusion_matrix = pd.DataFrame(\n",
    "        [[TP,FP,'FP'],\n",
    "         [TN,FN,'FN'],\n",
    "         ['TN','FN','']])\\\n",
    "    .rename(\n",
    "        columns={0:'TP', 1:'FP',2:''}, \n",
    "        index={0:'TP',1:'TN',2:''}\n",
    "    )\n",
    "\n",
    "    print('---- {} ----'.format(moralset))\n",
    "    print('Train Accuracy:', round(confusion_df['ACC: Accuracy'].values[0]*100), '\\n')\n",
    "    print(' Confusion Matrix \\n', confusion_matrix, '\\n')"
   ]
  },
  {
   "cell_type": "markdown",
   "metadata": {},
   "source": [
    "### 'get_experiment_tuning_suggestion' provided the used parameters for the Driverless AI training function(start_experiment_sync).\n",
    "\n",
    "Used metrics:\n",
    "- accuracy=7\n",
    "- time=2\n",
    "- interpretability=8"
   ]
  },
  {
   "cell_type": "markdown",
   "metadata": {},
   "source": [
    "### Model Diagram\n",
    "\n",
    "-- XGBoost + GBM Ensemble -- "
   ]
  },
  {
   "cell_type": "code",
   "execution_count": 193,
   "metadata": {},
   "outputs": [
    {
     "data": {
      "image/png": "[encoded data removed]",
      "text/plain": [
       "<PIL.PngImagePlugin.PngImageFile image mode=RGB size=1171x339 at 0x7F4671A62E48>"
      ]
     },
     "execution_count": 193,
     "metadata": {},
     "output_type": "execute_result"
    }
   ],
   "source": [
    "from PIL import Image\n",
    "cwd = '/home/datasciprojects/jupyter/notebooks'\n",
    "path = cwd+'/summary_Authority_Subversion/'\n",
    "image = path+'0_XGBoostGBMModel_2.png'\n",
    "img = Image.open(image)    # Open image as PIL image object\n",
    "img"
   ]
  },
  {
   "cell_type": "markdown",
   "metadata": {},
   "source": [
    "### Pipeline"
   ]
  },
  {
   "cell_type": "code",
   "execution_count": 199,
   "metadata": {},
   "outputs": [
    {
     "data": {
      "image/png": "[encoded data removed]",
      "text/plain": [
       "<PIL.PngImagePlugin.PngImageFile image mode=RGB size=1123x307 at 0x7F467178FCC0>"
      ]
     },
     "execution_count": 199,
     "metadata": {},
     "output_type": "execute_result"
    }
   ],
   "source": [
    "from PIL import Image\n",
    "cwd = '/home/datasciprojects/jupyter/notebooks'\n",
    "path = cwd+'/summary_Authority_Subversion/'\n",
    "image = path+'pipeline.png'\n",
    "img = Image.open(image)    # Open image as PIL image object\n",
    "img"
   ]
  },
  {
   "cell_type": "markdown",
   "metadata": {},
   "source": [
    "### Key Metrics\n",
    "- Accuracy\n",
    "- Confusion Matrix"
   ]
  },
  {
   "cell_type": "code",
   "execution_count": 200,
   "metadata": {},
   "outputs": [
    {
     "name": "stdout",
     "output_type": "stream",
     "text": [
      "---- Care/Harm ----\n",
      "Train Accuracy: 67 \n",
      "\n",
      " Confusion Matrix \n",
      "      TP   FP    \n",
      "TP  399  211  FP\n",
      "TN  131   49  FN\n",
      "     TN   FN     \n",
      "\n"
     ]
    }
   ],
   "source": [
    "key_metrics()"
   ]
  },
  {
   "cell_type": "code",
   "execution_count": 201,
   "metadata": {},
   "outputs": [
    {
     "name": "stdout",
     "output_type": "stream",
     "text": [
      "---- Authority/Subversion ----\n",
      "Train Accuracy: 87 \n",
      "\n",
      " Confusion Matrix \n",
      "      TP   FP    \n",
      "TP  687  103  FP\n",
      "TN    0    0  FN\n",
      "     TN   FN     \n",
      "\n"
     ]
    }
   ],
   "source": [
    "key_metrics(moralset='Authority/Subversion')"
   ]
  },
  {
   "cell_type": "code",
   "execution_count": 202,
   "metadata": {},
   "outputs": [
    {
     "name": "stdout",
     "output_type": "stream",
     "text": [
      "---- Fairness/Cheating ----\n",
      "Train Accuracy: 65 \n",
      "\n",
      " Confusion Matrix \n",
      "      TP   FP    \n",
      "TP  374  234  FP\n",
      "TN  142   40  FN\n",
      "     TN   FN     \n",
      "\n"
     ]
    }
   ],
   "source": [
    "key_metrics(moralset='Fairness/Cheating')"
   ]
  },
  {
   "cell_type": "code",
   "execution_count": 203,
   "metadata": {},
   "outputs": [
    {
     "name": "stdout",
     "output_type": "stream",
     "text": [
      "---- Loyalty/Betrayal ----\n",
      "Train Accuracy: 76 \n",
      "\n",
      " Confusion Matrix \n",
      "      TP   FP    \n",
      "TP  561  179  FP\n",
      "TN   38   12  FN\n",
      "     TN   FN     \n",
      "\n"
     ]
    }
   ],
   "source": [
    "key_metrics(moralset='Loyalty/Betrayal')"
   ]
  },
  {
   "cell_type": "code",
   "execution_count": 204,
   "metadata": {},
   "outputs": [
    {
     "name": "stdout",
     "output_type": "stream",
     "text": [
      "---- Purity/Degredation ----\n",
      "Train Accuracy: 83 \n",
      "\n",
      " Confusion Matrix \n",
      "      TP   FP    \n",
      "TP  650  133  FP\n",
      "TN    7    0  FN\n",
      "     TN   FN     \n",
      "\n"
     ]
    }
   ],
   "source": [
    "key_metrics(moralset='Purity/Degredation')"
   ]
  },
  {
   "cell_type": "code",
   "execution_count": null,
   "metadata": {},
   "outputs": [],
   "source": []
  },
  {
   "cell_type": "code",
   "execution_count": null,
   "metadata": {},
   "outputs": [],
   "source": []
  }
 ],
 "metadata": {
  "kernelspec": {
   "display_name": "Python 3",
   "language": "python",
   "name": "python3"
  },
  "language_info": {
   "codemirror_mode": {
    "name": "ipython",
    "version": 3
   },
   "file_extension": ".py",
   "mimetype": "text/x-python",
   "name": "python",
   "nbconvert_exporter": "python",
   "pygments_lexer": "ipython3",
   "version": "3.6.10"
  }
 },
 "nbformat": 4,
 "nbformat_minor": 4
}
